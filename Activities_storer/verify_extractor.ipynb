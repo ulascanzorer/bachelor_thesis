{
 "cells": [
  {
   "cell_type": "code",
   "execution_count": 6,
   "metadata": {},
   "outputs": [],
   "source": [
    "from pathlib import Path\n",
    "import xmltodict\n",
    "\n",
    "summary_path = Path(\"./ORCID_2023_10_activities_0\")"
   ]
  },
  {
   "cell_type": "code",
   "execution_count": 8,
   "metadata": {},
   "outputs": [
    {
     "name": "stdout",
     "output_type": "stream",
     "text": [
      "An error occurred while parsing file ORCID_2023_10_activities_0/090/0000-0002-8045-4090/works/0000-0002-8045-4090_works_130455429.xml, and here it is: \n",
      "no element found: line 2, column 0\n",
      "An error occurred while parsing file ORCID_2023_10_activities_0/930/0000-0002-5249-3930/works/0000-0002-5249-3930_works_72412146.xml, and here it is: \n",
      "no element found: line 2, column 0\n",
      "An error occurred while parsing file ORCID_2023_10_activities_0/630/0000-0002-8241-0630/works/0000-0002-8241-0630_works_130623121.xml, and here it is: \n",
      "no element found: line 2, column 0\n",
      "An error occurred while parsing file ORCID_2023_10_activities_0/380/0000-0003-4320-4380/works/0000-0003-4320-4380_works_129788586.xml, and here it is: \n",
      "no element found: line 2, column 0\n",
      "An error occurred while parsing file ORCID_2023_10_activities_0/170/0000-0003-1010-7170/works/0000-0003-1010-7170_works_130453272.xml, and here it is: \n",
      "no element found: line 2, column 0\n",
      "An error occurred while parsing file ORCID_2023_10_activities_0/620/0000-0002-4466-0620/works/0000-0002-4466-0620_works_114986941.xml, and here it is: \n",
      "no element found: line 2, column 0\n",
      "An error occurred while parsing file ORCID_2023_10_activities_0/540/0000-0001-6868-8540/works/0000-0001-6868-8540_works_130512189.xml, and here it is: \n",
      "no element found: line 2, column 0\n",
      "An error occurred while parsing file ORCID_2023_10_activities_0/700/0000-0001-5916-7700/works/0000-0001-5916-7700_works_128626261.xml, and here it is: \n",
      "no element found: line 2, column 0\n",
      "An error occurred while parsing file ORCID_2023_10_activities_0/700/0000-0003-0093-3700/works/0000-0003-0093-3700_works_128789833.xml, and here it is: \n",
      "no element found: line 2, column 0\n",
      "An error occurred while parsing file ORCID_2023_10_activities_0/430/0000-0002-5485-9430/works/0000-0002-5485-9430_works_131184452.xml, and here it is: \n",
      "no element found: line 2, column 0\n",
      "An error occurred while parsing file ORCID_2023_10_activities_0/430/0000-0002-2098-2430/works/0000-0002-2098-2430_works_45903926.xml, and here it is: \n",
      "no element found: line 2, column 0\n",
      "An error occurred while parsing file ORCID_2023_10_activities_0/010/0000-0002-5413-5010/works/0000-0002-5413-5010_works_127939601.xml, and here it is: \n",
      "no element found: line 2, column 0\n",
      "An error occurred while parsing file ORCID_2023_10_activities_0/490/0000-0001-6875-1490/works/0000-0001-6875-1490_works_127890075.xml, and here it is: \n",
      "no element found: line 2, column 0\n",
      "An error occurred while parsing file ORCID_2023_10_activities_0/490/0000-0001-5599-3490/works/0000-0001-5599-3490_works_132126277.xml, and here it is: \n",
      "no element found: line 2, column 0\n",
      "An error occurred while parsing file ORCID_2023_10_activities_0/760/0000-0003-3961-2760/works/0000-0003-3961-2760_works_124415245.xml, and here it is: \n",
      "no element found: line 2, column 0\n",
      "An error occurred while parsing file ORCID_2023_10_activities_0/950/0000-0003-4794-8950/works/0000-0003-4794-8950_works_130377530.xml, and here it is: \n",
      "no element found: line 2, column 0\n",
      "An error occurred while parsing file ORCID_2023_10_activities_0/610/0000-0002-0521-8610/works/0000-0002-0521-8610_works_129561608.xml, and here it is: \n",
      "no element found: line 2, column 0\n",
      "An error occurred while parsing file ORCID_2023_10_activities_0/060/0000-0001-7379-6060/works/0000-0001-7379-6060_works_129390264.xml, and here it is: \n",
      "no element found: line 2, column 0\n",
      "An error occurred while parsing file ORCID_2023_10_activities_0/680/0000-0002-3769-1680/works/0000-0002-3769-1680_works_42388784.xml, and here it is: \n",
      "no element found: line 2, column 0\n",
      "An error occurred while parsing file ORCID_2023_10_activities_0/820/0000-0001-6704-3820/works/0000-0001-6704-3820_works_130297268.xml, and here it is: \n",
      "no element found: line 2, column 0\n",
      "An error occurred while parsing file ORCID_2023_10_activities_0/520/0000-0003-1418-5520/works/0000-0003-1418-5520_works_82698864.xml, and here it is: \n",
      "no element found: line 2, column 0\n",
      "An error occurred while parsing file ORCID_2023_10_activities_0/830/0000-0003-4796-5830/works/0000-0003-4796-5830_works_131363207.xml, and here it is: \n",
      "no element found: line 2, column 0\n",
      "All authors with works count:  451067\n",
      "Total amount of works:  9859202\n"
     ]
    }
   ],
   "source": [
    "all_subfolders = summary_path.iterdir()\n",
    "\n",
    "authors_with_works_counter = 0\n",
    "total_works_counter = 0\n",
    "\n",
    "for subfolder in all_subfolders:\n",
    "    # e.g. a subfolder in subfolders: ORCID_2023_10_activities_0/510\n",
    "\n",
    "    for orcid_folder in subfolder.iterdir():\n",
    "        # e.g. orcid_folder = ORCID_2023_10_activities_0/380/0000-0002-5250-5380\n",
    "\n",
    "        for activity_folder in orcid_folder.iterdir():\n",
    "            # e.g. activity_folder = ORCID_2023_10_activities_0/510/0000-0003-4496-9510/works\n",
    "\n",
    "            if activity_folder.name == \"works\":\n",
    "                authors_with_works_counter += 1\n",
    "                works_files = activity_folder.iterdir()\n",
    "                for work in works_files:\n",
    "                    with open(work, \"r\") as xml_file:\n",
    "                        xml_string = xml_file.read()\n",
    "                        try:\n",
    "                            python_dict = xmltodict.parse(xml_string)\n",
    "                        except Exception as e:\n",
    "                            print(f\"An error occurred while parsing file {work}, and here it is: \")\n",
    "                            print(e)\n",
    "\n",
    "                            # Skip if there was an error parsing. Nothing that can be done, the file is\n",
    "                            # probably corrupt.\n",
    "\n",
    "                            continue\n",
    "                    total_works_counter += 1\n",
    "\n",
    "                break\n",
    "\n",
    "print(\"All authors with works count: \", authors_with_works_counter)\n",
    "print(\"Total amount of works: \", total_works_counter)"
   ]
  },
  {
   "cell_type": "code",
   "execution_count": 1,
   "metadata": {},
   "outputs": [],
   "source": [
    "from pymongo import MongoClient\n",
    "\n",
    "client = MongoClient(\"localhost\", 27017)\n",
    "db = client.final_orcid_database"
   ]
  },
  {
   "cell_type": "code",
   "execution_count": 4,
   "metadata": {},
   "outputs": [],
   "source": [
    "results = db.works.aggregate([\n",
    "    { \"$group\": { \"_id\": \"$put_code\", \"count\": { \"$sum\": 1 } } },\n",
    "    { \"$match\": { \"_id\": { \"$ne\": None }, \"count\": { \"$gt\": 1 } } },\n",
    "    { \"$project\": { \"name\": \"$_id\", \"_id\": 0 } }\n",
    "])"
   ]
  },
  {
   "cell_type": "code",
   "execution_count": 5,
   "metadata": {},
   "outputs": [],
   "source": []
  },
  {
   "cell_type": "code",
   "execution_count": 2,
   "metadata": {},
   "outputs": [
    {
     "data": {
      "text/plain": [
       "<pymongo.command_cursor.CommandCursor at 0x7f5444496e10>"
      ]
     },
     "execution_count": 2,
     "metadata": {},
     "output_type": "execute_result"
    }
   ],
   "source": [
    "db.works.aggregate([\n",
    "    {\n",
    "        \"$group\": {\n",
    "            \"_id\": \"$put_code\",\n",
    "            \"doc\": { \"$first\": \"$$ROOT\" },\n",
    "        }\n",
    "    },\n",
    "    {\n",
    "        \"$replaceWith\": \"$doc\"\n",
    "    },\n",
    "    {\n",
    "        \"$out\": \"works_without_duplicates\"\n",
    "    }\n",
    "])"
   ]
  },
  {
   "cell_type": "code",
   "execution_count": null,
   "metadata": {},
   "outputs": [],
   "source": []
  }
 ],
 "metadata": {
  "kernelspec": {
   "display_name": ".venv",
   "language": "python",
   "name": "python3"
  },
  "language_info": {
   "codemirror_mode": {
    "name": "ipython",
    "version": 3
   },
   "file_extension": ".py",
   "mimetype": "text/x-python",
   "name": "python",
   "nbconvert_exporter": "python",
   "pygments_lexer": "ipython3",
   "version": "3.11.7"
  }
 },
 "nbformat": 4,
 "nbformat_minor": 2
}
