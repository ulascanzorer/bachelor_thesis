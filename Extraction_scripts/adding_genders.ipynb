{
 "cells": [
  {
   "cell_type": "code",
   "execution_count": 6,
   "metadata": {},
   "outputs": [],
   "source": [
    "from pymongo import MongoClient, UpdateOne\n",
    "import pymongo\n",
    "import gender_guesser.detector as gender\n",
    "\n",
    "gender_detector = gender.Detector(case_sensitive=False)\n",
    "\n",
    "client = MongoClient(\"localhost\", 27017)\n",
    "db = client.final_orcid_database"
   ]
  },
  {
   "cell_type": "code",
   "execution_count": 7,
   "metadata": {},
   "outputs": [],
   "source": [
    "def gender_from_name(given_names, gender_api):\n",
    "    given_names_list = given_names.split()\n",
    "    final_guess = \"unknown\"\n",
    "\n",
    "    for given_name in given_names_list:\n",
    "        gender_guess = gender_api(given_name)\n",
    "        if gender_guess == \"unknown\":\n",
    "            continue\n",
    "        elif gender_guess == \"andy\":\n",
    "            return final_guess\n",
    "        else:\n",
    "            return gender_guess\n",
    "\n",
    "    return final_guess"
   ]
  },
  {
   "cell_type": "code",
   "execution_count": null,
   "metadata": {},
   "outputs": [],
   "source": [
    "all_documents = db.authors.find()\n",
    "\n",
    "bulk_updates = []\n",
    "counter = 0\n",
    "for document in all_documents:\n",
    "    if \"given_names\" in document:\n",
    "        given_names = document[\"given_names\"]\n",
    "        guessed_gender = gender_from_name(given_names, gender_detector.get_gender)\n",
    "        bulk_updates.append(\n",
    "            UpdateOne( { \"_id\": document[\"_id\"] }, { \"$set\": { \"gender\": guessed_gender } })\n",
    "        )\n",
    "    else:\n",
    "        bulk_updates.append(\n",
    "            UpdateOne( { \"_id\": document[\"_id\"] }, { \"$set\": { \"gender\": \"unknown\" } })\n",
    "        )\n",
    "\n",
    "    counter += 1\n",
    "    if counter % 10000 == 0:\n",
    "        print(counter)\n",
    "        db.authors.bulk_write(bulk_updates)\n",
    "        bulk_updates = []\n",
    "\n",
    "db.authors.bulk_write(bulk_updates)\n",
    "\n",
    "print(counter)"
   ]
  }
 ],
 "metadata": {
  "kernelspec": {
   "display_name": ".venv",
   "language": "python",
   "name": "python3"
  },
  "language_info": {
   "codemirror_mode": {
    "name": "ipython",
    "version": 3
   },
   "file_extension": ".py",
   "mimetype": "text/x-python",
   "name": "python",
   "nbconvert_exporter": "python",
   "pygments_lexer": "ipython3",
   "version": "3.11.8"
  }
 },
 "nbformat": 4,
 "nbformat_minor": 2
}
