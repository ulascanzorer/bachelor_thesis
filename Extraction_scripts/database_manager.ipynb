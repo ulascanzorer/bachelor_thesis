{
 "cells": [
  {
   "cell_type": "code",
   "execution_count": 1,
   "metadata": {},
   "outputs": [],
   "source": [
    "from pymongo import MongoClient\n",
    "\n",
    "client = MongoClient(\"localhost\", 27017)\n",
    "db = client.final_orcid_database"
   ]
  },
  {
   "cell_type": "code",
   "execution_count": 3,
   "metadata": {},
   "outputs": [],
   "source": [
    "# Return all the documents in the \"works\" collection which are duplicates with respect to their put codes.\n",
    "\n",
    "results = db.works.aggregate([\n",
    "    { \"$group\": { \"_id\": \"$put_code\", \"count\": { \"$sum\": 1 } } },\n",
    "    { \"$match\": { \"count\": { \"$gt\": 1 } } },\n",
    "])"
   ]
  },
  {
   "cell_type": "code",
   "execution_count": 7,
   "metadata": {},
   "outputs": [],
   "source": [
    "# Return all the documents in the \"authors\" collection which are duplicates with respect to their orcids.\n",
    "\n",
    "results = db.authors.aggregate([\n",
    "    { \"$group\": { \"_id\": \"$orcid\", \"count\": { \"$sum\": 1 } } },\n",
    "    { \"$match\": { \"count\": { \"$gt\": 1 } } },\n",
    "])"
   ]
  },
  {
   "cell_type": "code",
   "execution_count": 2,
   "metadata": {},
   "outputs": [
    {
     "data": {
      "text/plain": [
       "<pymongo.command_cursor.CommandCursor at 0x7fcf7f385c50>"
      ]
     },
     "execution_count": 2,
     "metadata": {},
     "output_type": "execute_result"
    }
   ],
   "source": [
    "# Remove duplicates from the \"works\" collection and put the results in the \"works_without_duplicates\" collection.\n",
    "\n",
    "db.works.aggregate([\n",
    "    {\n",
    "        \"$group\": {\n",
    "            \"_id\": \"$put_code\",\n",
    "            \"doc\": { \"$first\": \"$$ROOT\" },\n",
    "        }\n",
    "    },\n",
    "    {\n",
    "        \"$replaceWith\": \"$doc\"\n",
    "    },\n",
    "    {\n",
    "        \"$out\": \"works_without_duplicates\"\n",
    "    }\n",
    "])"
   ]
  },
  {
   "cell_type": "code",
   "execution_count": 5,
   "metadata": {},
   "outputs": [
    {
     "data": {
      "text/plain": [
       "<pymongo.command_cursor.CommandCursor at 0x7fcf7f383910>"
      ]
     },
     "execution_count": 5,
     "metadata": {},
     "output_type": "execute_result"
    }
   ],
   "source": [
    "# Remove duplicates from the \"authors\" collection and put the results in the \"authors_without_duplicates\" collection.\n",
    "\n",
    "db.authors.aggregate([\n",
    "    {\n",
    "        \"$group\": {\n",
    "            \"_id\": \"$orcid_id\",\n",
    "            \"doc\": { \"$first\": \"$$ROOT\" },\n",
    "        }\n",
    "    },\n",
    "    {\n",
    "        \"$replaceWith\": \"$doc\"\n",
    "    },\n",
    "    {\n",
    "        \"$out\": \"authors_without_duplicates\"\n",
    "    }\n",
    "])"
   ]
  },
  {
   "cell_type": "code",
   "execution_count": 6,
   "metadata": {},
   "outputs": [],
   "source": [
    "client.close()"
   ]
  },
  {
   "cell_type": "code",
   "execution_count": 6,
   "metadata": {},
   "outputs": [],
   "source": [
    "# Remove the \"works\" collection.\n",
    "\n",
    "db.works.drop()"
   ]
  },
  {
   "cell_type": "code",
   "execution_count": 14,
   "metadata": {},
   "outputs": [
    {
     "data": {
      "text/plain": [
       "{'ok': 1.0}"
      ]
     },
     "execution_count": 14,
     "metadata": {},
     "output_type": "execute_result"
    }
   ],
   "source": [
    "# Rename the \"works_without_duplicates\" collection into \"works\".\n",
    "\n",
    "db.works_without_duplicates.rename(\"works\")"
   ]
  },
  {
   "cell_type": "code",
   "execution_count": 15,
   "metadata": {},
   "outputs": [
    {
     "data": {
      "text/plain": [
       "{'ok': 1.0}"
      ]
     },
     "execution_count": 15,
     "metadata": {},
     "output_type": "execute_result"
    }
   ],
   "source": [
    "# Rename the \"authors_without_duplicates\" collection into \"authors\".\n",
    "\n",
    "db.authors_without_duplicates.rename(\"authors\")"
   ]
  },
  {
   "cell_type": "code",
   "execution_count": 16,
   "metadata": {},
   "outputs": [
    {
     "data": {
      "text/plain": [
       "'put_code_1'"
      ]
     },
     "execution_count": 16,
     "metadata": {},
     "output_type": "execute_result"
    }
   ],
   "source": [
    "# Add indices to the \"works\" collection.\n",
    "\n",
    "db.works.create_index([(\"title\", 1)])\n",
    "db.works.create_index([(\"publication_year\", 1)])\n",
    "db.works.create_index([(\"put_code\", 1)])"
   ]
  },
  {
   "cell_type": "code",
   "execution_count": 17,
   "metadata": {},
   "outputs": [
    {
     "data": {
      "text/plain": [
       "'orcid_1'"
      ]
     },
     "execution_count": 17,
     "metadata": {},
     "output_type": "execute_result"
    }
   ],
   "source": [
    "# Add indices to the \"authors\" collection.\n",
    "\n",
    "db.authors.create_index([(\"given_names\", 1)])\n",
    "db.authors.create_index([(\"family_name\", 1)])\n",
    "db.authors.create_index([(\"orcid\", 1)])"
   ]
  },
  {
   "cell_type": "code",
   "execution_count": 2,
   "metadata": {},
   "outputs": [],
   "source": [
    "client.close()"
   ]
  },
  {
   "cell_type": "code",
   "execution_count": 6,
   "metadata": {},
   "outputs": [],
   "source": [
    "from pymongo import MongoClient\n",
    "\n",
    "client = MongoClient(\"localhost\", 27017)\n",
    "db = client.orcid"
   ]
  },
  {
   "cell_type": "code",
   "execution_count": 7,
   "metadata": {},
   "outputs": [
    {
     "data": {
      "text/plain": [
       "'orcid_1'"
      ]
     },
     "execution_count": 7,
     "metadata": {},
     "output_type": "execute_result"
    }
   ],
   "source": [
    "# Add indices to the \"authors\" collection in the orcid database (The database with all the extracted information from the Summaries file).\n",
    "\n",
    "db.authors.create_index([(\"given names\", 1)])\n",
    "db.authors.create_index([(\"family name\", 1)])\n",
    "db.authors.create_index([(\"orcid\", 1)])"
   ]
  }
 ],
 "metadata": {
  "kernelspec": {
   "display_name": ".venv",
   "language": "python",
   "name": "python3"
  },
  "language_info": {
   "codemirror_mode": {
    "name": "ipython",
    "version": 3
   },
   "file_extension": ".py",
   "mimetype": "text/x-python",
   "name": "python",
   "nbconvert_exporter": "python",
   "pygments_lexer": "ipython3",
   "version": "3.11.8"
  }
 },
 "nbformat": 4,
 "nbformat_minor": 2
}
