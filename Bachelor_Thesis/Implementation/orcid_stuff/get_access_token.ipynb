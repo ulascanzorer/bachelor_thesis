{
 "cells": [
  {
   "cell_type": "code",
   "execution_count": 24,
   "metadata": {},
   "outputs": [],
   "source": [
    "import requests"
   ]
  },
  {
   "cell_type": "code",
   "execution_count": 25,
   "metadata": {},
   "outputs": [],
   "source": [
    "# Get the credentials from the file.\n",
    "with open(\"orchid_credentials.txt\", \"r\") as f:\n",
    "    content = f.readlines()\n",
    "    client_id = content[1].strip()\n",
    "    client_secret = content[4].strip()"
   ]
  },
  {
   "cell_type": "code",
   "execution_count": 32,
   "metadata": {},
   "outputs": [],
   "source": [
    "headers = { \"Accept\": \"application/json\" }\n",
    "data = {\n",
    "    \"client_id\": client_id,\n",
    "    \"client_secret\": client_secret,\n",
    "    \"grant_type\": \"client_credentials\",\n",
    "    \"scope\": \"/read-public\",\n",
    "}\n",
    "\n",
    "url = \"https://orcid.org/oauth/token\"\n",
    "\n",
    "response = requests.post(url=url, data=data, headers=headers)"
   ]
  },
  {
   "cell_type": "code",
   "execution_count": 33,
   "metadata": {},
   "outputs": [
    {
     "name": "stdout",
     "output_type": "stream",
     "text": [
      "{\"access_token\":\"3a52fa43-68a8-4576-ae2d-8209d3bee543\",\"token_type\":\"bearer\",\"refresh_token\":\"536bbd8f-d5e6-43b1-ae41-1f14527c35ee\",\"expires_in\":631138518,\"scope\":\"/read-public\",\"orcid\":null}\n"
     ]
    }
   ],
   "source": [
    "print(response.text)"
   ]
  }
 ],
 "metadata": {
  "kernelspec": {
   "display_name": "Python 3.11.6 ('.venv': venv)",
   "language": "python",
   "name": "python3"
  },
  "language_info": {
   "codemirror_mode": {
    "name": "ipython",
    "version": 3
   },
   "file_extension": ".py",
   "mimetype": "text/x-python",
   "name": "python",
   "nbconvert_exporter": "python",
   "pygments_lexer": "ipython3",
   "version": "3.11.6"
  },
  "orig_nbformat": 4,
  "vscode": {
   "interpreter": {
    "hash": "67685f080611881649a444ec3cb6d6a0147e15d66f0c31cbdfee591c717dc960"
   }
  }
 },
 "nbformat": 4,
 "nbformat_minor": 2
}
