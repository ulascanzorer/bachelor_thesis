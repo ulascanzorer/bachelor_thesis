{
 "cells": [
  {
   "cell_type": "code",
   "execution_count": 24,
   "metadata": {},
   "outputs": [
    {
     "name": "stdout",
     "output_type": "stream",
     "text": [
      "{'b': 2, 'c': 3}\n"
     ]
    }
   ],
   "source": [
    "test_list = [(\"a\", 1), (\"b\", 2), (\"c\", 3)]\n",
    "new_dict = dict(test_list[1:3])\n",
    "print(new_dict)\n"
   ]
  },
  {
   "cell_type": "code",
   "execution_count": 39,
   "metadata": {},
   "outputs": [
    {
     "name": "stdout",
     "output_type": "stream",
     "text": [
      "5\n"
     ]
    }
   ],
   "source": [
    "num_one = 11\n",
    "num_two = 2\n",
    "print(num_one // num_two)"
   ]
  },
  {
   "cell_type": "code",
   "execution_count": 48,
   "metadata": {},
   "outputs": [],
   "source": [
    "def chunks(input_dict: dict, number_of_chunks: int):\n",
    "    if number_of_chunks <= 0:\n",
    "        return None\n",
    "\n",
    "    items_list = list(input_dict.items())\n",
    "    num_items = len(items_list)\n",
    "    chunks = []\n",
    "            \n",
    "    if number_of_chunks >= num_items:\n",
    "        for i in range(0, num_items):\n",
    "            chunks.append(dict(items_list[i : i + 1]))\n",
    "        for i in range(0, number_of_chunks - num_items):\n",
    "            chunks.append({})\n",
    "        return chunks\n",
    "\n",
    "    if number_of_chunks == 1:\n",
    "        chunks.append(input_dict)\n",
    "        return chunks\n",
    "\n",
    "    standard_chunk_size = num_items // number_of_chunks\n",
    "    final_chunk_size = standard_chunk_size + (num_items % number_of_chunks)\n",
    "\n",
    "    for i in range(0, num_items, standard_chunk_size):\n",
    "        if i + final_chunk_size == num_items:\n",
    "            chunks.append(dict(items_list[i : num_items]))\n",
    "            return chunks\n",
    "        chunks.append(dict(items_list[i : i + standard_chunk_size]))"
   ]
  },
  {
   "cell_type": "code",
   "execution_count": 71,
   "metadata": {},
   "outputs": [
    {
     "name": "stdout",
     "output_type": "stream",
     "text": [
      "{'a': 1, 'b': 2, 'c': 3}\n",
      "{'d': 4, 'e': 5, 'f': 6}\n",
      "{'g': 7, 'h': 8, 'i': 9, 'j': 10}\n"
     ]
    }
   ],
   "source": [
    "test_dict = { \"a\": 1, \"b\": 2, \"c\": 3, \"d\": 4, \"e\": 5, \"f\": 6, \"g\": 7, \"h\": 8, \"i\": 9, \"j\": 10 }\n",
    "for chunk in chunks(test_dict, 3):\n",
    "    print(chunk)"
   ]
  },
  {
   "cell_type": "code",
   "execution_count": 12,
   "metadata": {},
   "outputs": [
    {
     "name": "stdout",
     "output_type": "stream",
     "text": [
      "False\n"
     ]
    }
   ],
   "source": [
    "number1 = 2\n",
    "number2 = 3\n",
    "sumnumber = number1 + number2\n",
    "if number1 / sumnumber >= 0.5:\n",
    "    print(True)\n",
    "else:\n",
    "    print(False)"
   ]
  },
  {
   "cell_type": "code",
   "execution_count": 1,
   "metadata": {},
   "outputs": [
    {
     "data": {
      "text/plain": [
       "[1, 2, 3, 4]"
      ]
     },
     "execution_count": 1,
     "metadata": {},
     "output_type": "execute_result"
    }
   ],
   "source": [
    "a = [1, 2]\n",
    "b = [3, 4]\n",
    "a.extend(b)\n",
    "a"
   ]
  },
  {
   "cell_type": "code",
   "execution_count": 1,
   "metadata": {},
   "outputs": [
    {
     "name": "stdout",
     "output_type": "stream",
     "text": [
      "[1, 2, 3]\n"
     ]
    }
   ],
   "source": [
    "test_list = [1, 2]\n",
    "list_to_add = [3]\n",
    "\n",
    "result_list = test_list + list_to_add\n",
    "print(result_list)"
   ]
  },
  {
   "cell_type": "code",
   "execution_count": 1,
   "metadata": {},
   "outputs": [
    {
     "data": {
      "text/plain": [
       "0"
      ]
     },
     "execution_count": 1,
     "metadata": {},
     "output_type": "execute_result"
    }
   ],
   "source": [
    "import os\n",
    "duration = 2 # seconds\n",
    "freq = 1200  # Hz\n",
    "os.system(\"play -nq -t alsa synth {} sine {}\".format(duration, freq))"
   ]
  },
  {
   "cell_type": "code",
   "execution_count": 4,
   "metadata": {},
   "outputs": [
    {
     "name": "stdout",
     "output_type": "stream",
     "text": [
      "[[1, 2, 3, 4, 5, 6, 7, 8, 9, 10]]\n"
     ]
    }
   ],
   "source": [
    "from list_to_chunk import get_chunks_from_list_chunk_num\n",
    "\n",
    "test_list = [1, 2, 3, 4, 5, 6, 7, 8, 9, 10]\n",
    "print(get_chunks_from_list_chunk_num(test_list, 1))"
   ]
  },
  {
   "cell_type": "code",
   "execution_count": 1,
   "metadata": {},
   "outputs": [
    {
     "data": {
      "text/plain": [
       "[[1], [2], [3], [4]]"
      ]
     },
     "execution_count": 1,
     "metadata": {},
     "output_type": "execute_result"
    }
   ],
   "source": [
    "test_list = [1, 2, 3, 4]\n",
    "elements_in_lists = [[element] for element in test_list]\n",
    "elements_in_lists"
   ]
  },
  {
   "cell_type": "code",
   "execution_count": 2,
   "metadata": {},
   "outputs": [
    {
     "name": "stdout",
     "output_type": "stream",
     "text": [
      "['gurol', 'ela', 'ulas', 'duygu']\n"
     ]
    }
   ],
   "source": [
    "author_names_with_possible_duplicates = [\"ulas\", \"ela\", \"duygu\", \"gurol\", \"ela\"]\n",
    "author_names_without_duplicates = list(set(author_names_with_possible_duplicates))\n",
    "print(author_names_without_duplicates)"
   ]
  }
 ],
 "metadata": {
  "kernelspec": {
   "display_name": "Python 3.11.6 ('.venv': venv)",
   "language": "python",
   "name": "python3"
  },
  "language_info": {
   "codemirror_mode": {
    "name": "ipython",
    "version": 3
   },
   "file_extension": ".py",
   "mimetype": "text/x-python",
   "name": "python",
   "nbconvert_exporter": "python",
   "pygments_lexer": "ipython3",
   "version": "3.11.6"
  },
  "orig_nbformat": 4,
  "vscode": {
   "interpreter": {
    "hash": "67685f080611881649a444ec3cb6d6a0147e15d66f0c31cbdfee591c717dc960"
   }
  }
 },
 "nbformat": 4,
 "nbformat_minor": 2
}
