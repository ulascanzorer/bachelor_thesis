{
 "cells": [
  {
   "cell_type": "code",
   "execution_count": 1,
   "metadata": {},
   "outputs": [],
   "source": [
    "from pymongo import MongoClient\n",
    "from detect_multiple_authors_and_add_orcid_urls import detect_multiple_authors_and_add_orcid_urls\n",
    "\n",
    "client = MongoClient(\"localhost\", 27017)\n",
    "db = client.test\n",
    "client.drop_database(db)"
   ]
  },
  {
   "cell_type": "code",
   "execution_count": 2,
   "metadata": {},
   "outputs": [
    {
     "name": "stdout",
     "output_type": "stream",
     "text": [
      "env: ORCID_ACCESS_TOKEN=3a52fa43-68a8-4576-ae2d-8209d3bee543\n"
     ]
    }
   ],
   "source": [
    "%env ORCID_ACCESS_TOKEN=3a52fa43-68a8-4576-ae2d-8209d3bee543"
   ]
  },
  {
   "cell_type": "code",
   "execution_count": 3,
   "metadata": {},
   "outputs": [],
   "source": [
    "test_data_to_insert = [\n",
    "    { \"name\": \"Ibtissem Chouba\", \"gender\": \"female\", \"release_ids\": [(3068, \"1. (first) author\")] },\n",
    "    { \"name\": \"Leandro dos Santos Coelho\", \"gender\": \"male\", \"release_ids\": \n",
    "    [(17020, \"3. (coauthor) author\"), (27660, \"3. (coauthor) author\"), (32421, \"3. (last) author\")] },\n",
    "]"
   ]
  },
  {
   "cell_type": "code",
   "execution_count": 4,
   "metadata": {},
   "outputs": [
    {
     "data": {
      "text/plain": [
       "InsertManyResult([ObjectId('65ad58c00401cb19838db2f6'), ObjectId('65ad58c00401cb19838db2f7')], acknowledged=True)"
      ]
     },
     "execution_count": 4,
     "metadata": {},
     "output_type": "execute_result"
    }
   ],
   "source": [
    "db.authors.insert_many(test_data_to_insert)"
   ]
  },
  {
   "cell_type": "code",
   "execution_count": 5,
   "metadata": {},
   "outputs": [
    {
     "name": "stdout",
     "output_type": "stream",
     "text": [
      "DETECTING MULTIPLE AUTHORS AND ADDING ORCID URLS USING 1 PROCESSES\n",
      "Process 0: We are at author name number 1 out of 2\n",
      "Process 0: We are at author name number 2 out of 2\n"
     ]
    }
   ],
   "source": [
    "detect_multiple_authors_and_add_orcid_urls(\"test\", 1, match_needed=1)"
   ]
  }
 ],
 "metadata": {
  "kernelspec": {
   "display_name": "Python 3.11.6 ('.venv': venv)",
   "language": "python",
   "name": "python3"
  },
  "language_info": {
   "codemirror_mode": {
    "name": "ipython",
    "version": 3
   },
   "file_extension": ".py",
   "mimetype": "text/x-python",
   "name": "python",
   "nbconvert_exporter": "python",
   "pygments_lexer": "ipython3",
   "version": "3.11.6"
  },
  "orig_nbformat": 4,
  "vscode": {
   "interpreter": {
    "hash": "67685f080611881649a444ec3cb6d6a0147e15d66f0c31cbdfee591c717dc960"
   }
  }
 },
 "nbformat": 4,
 "nbformat_minor": 2
}
