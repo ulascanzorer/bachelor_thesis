{
 "cells": [
  {
   "cell_type": "code",
   "execution_count": 1,
   "metadata": {},
   "outputs": [],
   "source": [
    "import requests\n",
    "import json"
   ]
  },
  {
   "cell_type": "code",
   "execution_count": null,
   "metadata": {},
   "outputs": [],
   "source": [
    "page = requests.get(\"https://scholar.archive.org/search?q=Turing\")\n",
    "print(page.content)\n",
    "\n",
    "# DOES NOT WORK, RETURNS HTML INSTEAD OF JSON!"
   ]
  },
  {
   "cell_type": "code",
   "execution_count": 6,
   "metadata": {},
   "outputs": [
    {
     "name": "stdout",
     "output_type": "stream",
     "text": [
      "FGluY2x1ZGVfY29udGV4dF91dWlkDnF1ZXJ5VGhlbkZldGNoBhZoa05Hc09WMlFYQ3VpWnY2X3F6RzV3AAAAAAAiuv4WQTNjTVI2Z29UNXVubUcxU2g1emVnZxZoa05Hc09WMlFYQ3VpWnY2X3F6RzV3AAAAAAAiuvsWQTNjTVI2Z29UNXVubUcxU2g1emVnZxZoa05Hc09WMlFYQ3VpWnY2X3F6RzV3AAAAAAAiuvoWQTNjTVI2Z29UNXVubUcxU2g1emVnZxZoa05Hc09WMlFYQ3VpWnY2X3F6RzV3AAAAAAAiuvwWQTNjTVI2Z29UNXVubUcxU2g1emVnZxZoa05Hc09WMlFYQ3VpWnY2X3F6RzV3AAAAAAAiuv0WQTNjTVI2Z29UNXVubUcxU2g1emVnZxZoa05Hc09WMlFYQ3VpWnY2X3F6RzV3AAAAAAAiuv8WQTNjTVI2Z29UNXVubUcxU2g1emVnZw==\n"
     ]
    }
   ],
   "source": [
    "# Fatcat search api.\n",
    "\n",
    "data_template = {\n",
    "    \"query\": {\n",
    "        \"bool\": {\n",
    "            \"should\": [{ \"match_phrase\": { \"contrib_names\": \"Ajay Misra\" } }]\n",
    "        },\n",
    "    },\n",
    "    \"size\": 10\n",
    "}\n",
    "\n",
    "page = requests.get(\"https://search.fatcat.wiki/fatcat_release/_search?scroll=1m\", json=data_template)\n",
    "page_dict = page.json()\n",
    "scroll_id = page_dict[\"_scroll_id\"]\n",
    "print(scroll_id)\n",
    "\n",
    "with open(\"result.json\", \"w\") as f:\n",
    "    json.dump(page_dict, f)\n"
   ]
  },
  {
   "cell_type": "code",
   "execution_count": null,
   "metadata": {},
   "outputs": [],
   "source": [
    "# Fatcat original api.\n",
    "\n"
   ]
  },
  {
   "cell_type": "code",
   "execution_count": 3,
   "metadata": {},
   "outputs": [
    {
     "data": {
      "text/plain": [
       "list"
      ]
     },
     "execution_count": 3,
     "metadata": {},
     "output_type": "execute_result"
    }
   ],
   "source": [
    "testlist = [1, 2, 3]\n",
    "anotherlist = list(testlist)\n",
    "type(anotherlist)"
   ]
  },
  {
   "cell_type": "code",
   "execution_count": 5,
   "metadata": {},
   "outputs": [
    {
     "data": {
      "text/plain": [
       "['attention', 'bla', 'bla', 'bam']"
      ]
     },
     "execution_count": 5,
     "metadata": {},
     "output_type": "execute_result"
    }
   ],
   "source": [
    "concept = \"attention(bla bla) bam\"\n",
    "concept = concept.replace(\"(\", \" \")\n",
    "concept = concept.replace(\")\", \" \")\n",
    "individual_words = concept.split()\n",
    "individual_words"
   ]
  }
 ],
 "metadata": {
  "kernelspec": {
   "display_name": "Python 3.11.6 ('.venv': venv)",
   "language": "python",
   "name": "python3"
  },
  "language_info": {
   "codemirror_mode": {
    "name": "ipython",
    "version": 3
   },
   "file_extension": ".py",
   "mimetype": "text/x-python",
   "name": "python",
   "nbconvert_exporter": "python",
   "pygments_lexer": "ipython3",
   "version": "3.11.6"
  },
  "orig_nbformat": 4,
  "vscode": {
   "interpreter": {
    "hash": "67685f080611881649a444ec3cb6d6a0147e15d66f0c31cbdfee591c717dc960"
   }
  }
 },
 "nbformat": 4,
 "nbformat_minor": 2
}
